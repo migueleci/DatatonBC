{
 "cells": [
  {
   "cell_type": "markdown",
   "metadata": {},
   "source": [
    "# Limpieza de los datos\n",
    "## Set de datos Clientes\n",
    "\n",
    "Limpieza de los datos del set de clientes"
   ]
  },
  {
   "cell_type": "code",
   "execution_count": null,
   "metadata": {
    "scrolled": true
   },
   "outputs": [],
   "source": [
    "import pandas as pd\n",
    "import numpy as np\n",
    "df = pd.read_csv('pagadores/dt_info_pagadores_muestra.csv', na_values=['\\\\N','-975','No disponible'], names=['id_cliente', 'seg_str', 'ocupacion', 'tipo_vivienda', 'nivel_academico', 'estado_civil', 'genero', 'edad', 'ingreso_rango'])"
   ]
  },
  {
   "cell_type": "code",
   "execution_count": null,
   "metadata": {},
   "outputs": [],
   "source": [
    "#df.head\n",
    "print('Filas: {}\\nColumnas: {}'.format(df.shape[0], df.shape[1]))\n",
    "df.isnull().sum()"
   ]
  },
  {
   "cell_type": "code",
   "execution_count": null,
   "metadata": {},
   "outputs": [],
   "source": [
    "labels = [ 'seg_str', 'ocupacion', 'tipo_vivienda', 'nivel_academico', 'estado_civil', 'genero', 'edad', 'ingreso_rango']\n",
    "#'id_cliente',\n",
    "def print_uniques():\n",
    "    for label in labels:\n",
    "        unique_list = df[label].unique()\n",
    "        print('## {0}'.format(label))\n",
    "        for unique in unique_list:\n",
    "            print('{0} - {1}'.format(unique, df.loc[df[label] == unique,].shape[0]))\n",
    "\n",
    "print_uniques()"
   ]
  },
  {
   "cell_type": "code",
   "execution_count": null,
   "metadata": {
    "scrolled": true
   },
   "outputs": [],
   "source": [
    "df.loc[df['edad'] > 80,].shape"
   ]
  },
  {
   "cell_type": "code",
   "execution_count": null,
   "metadata": {},
   "outputs": [],
   "source": [
    "df['seg_str'] = df['seg_str'].map({'PERSONAL':0, 'PERSONAL PLUS':1, 'EMPRENDEDOR':2, 'PREFERENCIAL':3, 'OTRO':4}, na_action='ignore')\n",
    "df['ocupacion'] = df['ocupacion'].map({'E':0, 'I':1, 'O':2, 'P':3, 'S':4, '1':5, '2':6, '3':3, '4':7, '5':8, '6':9, '7':10, '8':11, '9':12, '0':np.nan}, na_action='ignore')\n",
    "df['tipo_vivienda'] = df['tipo_vivienda'].map({'A':0 , 'R':0, 'F':1, 'I':np.nan, 'P':2, 'O':2,'1':np.nan,'2':np.nan,'3':np.nan,'4':np.nan}, na_action='ignore')\n",
    "df['nivel_academico'] = df['nivel_academico'].map({'H':2, 'B':2, 'U':4, 'E':5, 'N':0, 'P':1, 'S':6, 'T':3, 'I':np.nan}, na_action='ignore')\n",
    "df['estado_civil'] = df['estado_civil'].map({'S':0, 'M':1, 'F':np.nan, 'I':np.nan, 'D':2, 'W':3, 'O':np.nan}, na_action='ignore')\n",
    "df['genero'] = df['genero'].map({'F':0, 'M':1}, na_action='ignore')\n",
    "df['edad'] = df['edad'].apply(lambda x: np.nan if x < 5 or x > 100 else x)\n",
    "df['ingreso_rango'] = df['ingreso_rango'].map({'a. (0  1.1MM]':0, 'b. (1.1  2.2MM]':1, 'c. (2.2  3.3MM]':2, 'd. (3.3  4.4MM]':3, 'e. (4.4  5.5MM]':4, 'f. (5.5  6.6MM]':5, 'g. (6.6  7.6MM]':6, 'h. (7.6  8.7MM]':7, 'i. (8.7  Inf)':8, 0:np.nan}, na_action='ignore')"
   ]
  },
  {
   "cell_type": "code",
   "execution_count": null,
   "metadata": {},
   "outputs": [],
   "source": [
    "print_uniques()"
   ]
  },
  {
   "cell_type": "code",
   "execution_count": null,
   "metadata": {},
   "outputs": [],
   "source": [
    "df.isnull().sum()"
   ]
  },
  {
   "cell_type": "code",
   "execution_count": null,
   "metadata": {},
   "outputs": [],
   "source": [
    "df.to_csv('personas.csv',header=False)"
   ]
  },
  {
   "cell_type": "code",
   "execution_count": null,
   "metadata": {},
   "outputs": [],
   "source": [
    "df = df.infer_objects()\n",
    "df.dtypes"
   ]
  },
  {
   "cell_type": "code",
   "execution_count": null,
   "metadata": {},
   "outputs": [],
   "source": []
  }
 ],
 "metadata": {
  "kernelspec": {
   "display_name": "Python 3",
   "language": "python",
   "name": "python3"
  },
  "language_info": {
   "codemirror_mode": {
    "name": "ipython",
    "version": 3
   },
   "file_extension": ".py",
   "mimetype": "text/x-python",
   "name": "python",
   "nbconvert_exporter": "python",
   "pygments_lexer": "ipython3",
   "version": "3.7.0"
  }
 },
 "nbformat": 4,
 "nbformat_minor": 2
}
