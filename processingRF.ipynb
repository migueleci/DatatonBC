{
 "cells": [
  {
   "cell_type": "markdown",
   "metadata": {},
   "source": [
    "# Modelo Final\n",
    "## Random Forest\n",
    "\n",
    "Modelo final utilizando el set de datos modificado (incluyendo las nuevas columnas, y elimimando otras). El modelo utiliza 20 estimadores."
   ]
  },
  {
   "cell_type": "code",
   "execution_count": null,
   "metadata": {},
   "outputs": [],
   "source": [
    "import pandas as pd\n",
    "import numpy as np\n",
    "names = ['hora', 'valor_trx', 'class', 'seg_str', 'ocupacion', 'tipo_vivienda', 'nivel_academico', 'estado_civil', 'genero', 'edad', 'ingreso_rango', 'ultimas_trx', 'ultimo_mes', 'mes', 'dia']\n",
    "df = pd.read_csv('set5.csv', names=names)"
   ]
  },
  {
   "cell_type": "code",
   "execution_count": null,
   "metadata": {},
   "outputs": [],
   "source": [
    "#print(df.head(10))\n",
    "print('Filas: {}\\nColumnas: {}\\n'.format(df.shape[0], df.shape[1]))\n",
    "print(df.isnull().sum())"
   ]
  },
  {
   "cell_type": "code",
   "execution_count": null,
   "metadata": {},
   "outputs": [],
   "source": [
    "df_t10 = df.dropna(thresh=10)\n",
    "print('>> thresh 10 <<\\n   Filas: {}\\n   Columnas: {}\\n'.format(df_t10.shape[0], df_t10.shape[1]))\n",
    "df_t11 = df.dropna(thresh=11)\n",
    "print('>> thresh 11 <<\\n   Filas: {}\\n   Columnas: {}\\n'.format(df_t11.shape[0], df_t11.shape[1]))\n",
    "df_t12 = df.dropna(thresh=12)\n",
    "print('>> thresh 12 <<\\n   Filas: {}\\n   Columnas: {}\\n'.format(df_t12.shape[0], df_t12.shape[1]))\n",
    "df_t13 = df.dropna(thresh=13)\n",
    "print('>> thresh 13 <<\\n   Filas: {}\\n   Columnas: {}\\n'.format(df_t13.shape[0], df_t13.shape[1]))\n",
    "df_t14 = df.dropna(thresh=14)\n",
    "print('>> thresh 14 <<\\n   Filas: {}\\n   Columnas: {}\\n'.format(df_t14.shape[0], df_t14.shape[1]))"
   ]
  },
  {
   "cell_type": "code",
   "execution_count": null,
   "metadata": {},
   "outputs": [],
   "source": [
    "del df_t10\n",
    "del df_t11\n",
    "del df_t12\n",
    "del df_t14"
   ]
  },
  {
   "cell_type": "code",
   "execution_count": null,
   "metadata": {},
   "outputs": [],
   "source": [
    "df_t13 = df.dropna(thresh=13)\n",
    "print('>> thresh 13 <<\\n   Filas: {}\\n   Columnas: {}\\n'.format(df_t13.shape[0], df_t13.shape[1]))"
   ]
  },
  {
   "cell_type": "code",
   "execution_count": null,
   "metadata": {},
   "outputs": [],
   "source": [
    "df1 = df_t13.fillna(value=df_t13.mode().iloc[0])\n",
    "print('Filas: {}\\nColumnas: {}\\n'.format(df1.shape[0], df1.shape[1]))\n",
    "print(df1.isnull().sum())"
   ]
  },
  {
   "cell_type": "code",
   "execution_count": null,
   "metadata": {},
   "outputs": [],
   "source": [
    "del df_t13\n",
    "del df"
   ]
  },
  {
   "cell_type": "code",
   "execution_count": null,
   "metadata": {},
   "outputs": [],
   "source": [
    "from sklearn.model_selection import train_test_split\n",
    "\n",
    "x = df1.drop('class', axis = 1)\n",
    "y = df1['class']\n",
    "x_train, x_test, y_train, y_test = train_test_split(x, y, test_size=0.20, random_state=548, stratify=y)"
   ]
  },
  {
   "cell_type": "code",
   "execution_count": null,
   "metadata": {},
   "outputs": [],
   "source": [
    "from sklearn.ensemble import RandomForestClassifier\n",
    "from functools import reduce\n",
    "\n",
    "clf = RandomForestClassifier(n_jobs=3, n_estimators=25, random_state=895)\n",
    "clf.fit(x_train, y_train)\n",
    "print(' '.join(['{0:.2f}'.format(x) for x in clf.feature_importances_]))\n",
    "\n",
    "predict = clf.predict(x_test)"
   ]
  },
  {
   "cell_type": "code",
   "execution_count": null,
   "metadata": {},
   "outputs": [],
   "source": [
    "import scikitplot as skplt\n",
    "from sklearn import metrics\n",
    "\n",
    "print(\"\\n#### Accuracy DT ####\")\n",
    "print(metrics.accuracy_score(y_test, predict))\n",
    "print(\"\\n#### Matriz de Confusion DT ####\")\n",
    "print(metrics.confusion_matrix(y_test, predict))  \n",
    "print(\"\\n#### Metricas DT ####\")\n",
    "print(metrics.classification_report(y_test, predict)) "
   ]
  },
  {
   "cell_type": "code",
   "execution_count": null,
   "metadata": {},
   "outputs": [],
   "source": [
    "plot = skplt.metrics.plot_confusion_matrix(y_test, predict, normalize=True, title='', figsize=(20,8))"
   ]
  },
  {
   "cell_type": "code",
   "execution_count": null,
   "metadata": {},
   "outputs": [],
   "source": [
    "x_train_set = list()\n",
    "y_train_set = list()\n",
    "for g, df in x_train.groupby(np.arange(len(x_train)) // 400000):\n",
    "    x_train_set.append(df)\n",
    "    #print(df.shape)\n",
    "    \n",
    "for g, df in y_train.groupby(np.arange(len(y_train)) // 400000):\n",
    "    y_train_set.append(df)\n",
    "    #print(df.shape)\n",
    "    \n",
    "print(len(x_train_set))"
   ]
  },
  {
   "cell_type": "code",
   "execution_count": null,
   "metadata": {},
   "outputs": [],
   "source": [
    "del x_train\n",
    "del y_train"
   ]
  },
  {
   "cell_type": "code",
   "execution_count": null,
   "metadata": {},
   "outputs": [],
   "source": [
    "from sklearn.ensemble import RandomForestClassifier\n",
    "from functools import reduce\n",
    "\n",
    "clf_set = list()\n",
    "n_it = 1\n",
    "for x_train, y_train in zip(x_train_set, y_train_set):\n",
    "    clf = RandomForestClassifier(n_jobs=3, random_state=895)\n",
    "    clf.fit(x_train, y_train)\n",
    "    print('Iteration #{0:2d}'.format(n_it))\n",
    "    print('rf score: {0:.4f}'.format(clf.score(x_test, y_test)))\n",
    "    print(' '.join(['{0:.2f}'.format(x) for x in clf.feature_importances_]))\n",
    "    clf_set.append(clf)\n",
    "    n_it += 1\n",
    "\n",
    "def combine_rfs(rf_a, rf_b):\n",
    "    rf_a.estimators_ += rf_b.estimators_\n",
    "    rf_a.n_estimators = len(rf_a.estimators_)\n",
    "    return rf_a\n",
    "\n",
    "rf_combined = reduce(combine_rfs, clf_set)\n",
    "# the combined model scores better than *most* of the component models\n",
    "print('rf combined score: {0:.4f}'.format(rf_combined.score(x_test, y_test)))"
   ]
  },
  {
   "cell_type": "code",
   "execution_count": null,
   "metadata": {},
   "outputs": [],
   "source": [
    "predict = rf_combined.predict(x_test)"
   ]
  },
  {
   "cell_type": "code",
   "execution_count": null,
   "metadata": {},
   "outputs": [],
   "source": [
    "import scikitplot as skplt\n",
    "from sklearn import metrics\n",
    "\n",
    "print(\"\\n#### Accuracy DT ####\")\n",
    "print(metrics.accuracy_score(y_test, predict))\n",
    "print(\"\\n#### Matriz de Confusion DT ####\")\n",
    "print(metrics.confusion_matrix(y_test, predict))  \n",
    "print(\"\\n#### Metricas DT ####\")\n",
    "print(metrics.classification_report(y_test, predict)) "
   ]
  },
  {
   "cell_type": "code",
   "execution_count": null,
   "metadata": {},
   "outputs": [],
   "source": [
    "plot = skplt.metrics.plot_confusion_matrix(y_test, predict, normalize=True, title='', figsize=(20,8))"
   ]
  }
 ],
 "metadata": {
  "kernelspec": {
   "display_name": "Python 3",
   "language": "python",
   "name": "python3"
  },
  "language_info": {
   "codemirror_mode": {
    "name": "ipython",
    "version": 3
   },
   "file_extension": ".py",
   "mimetype": "text/x-python",
   "name": "python",
   "nbconvert_exporter": "python",
   "pygments_lexer": "ipython3",
   "version": "3.7.0"
  }
 },
 "nbformat": 4,
 "nbformat_minor": 2
}
