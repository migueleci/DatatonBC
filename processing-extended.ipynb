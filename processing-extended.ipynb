{
 "cells": [
  {
   "cell_type": "markdown",
   "metadata": {},
   "source": [
    "# Entrenamiento del modelo\n",
    "## Modificación en las columnas\n",
    "\n",
    "Creación de nuevas columnas para agregar a la transacción información historica del gasto del cliente.\n",
    "\n",
    "Eliminación de las columnas irrelevantes para la clasificación de la transacción."
   ]
  },
  {
   "cell_type": "code",
   "execution_count": 1,
   "metadata": {},
   "outputs": [],
   "source": [
    "import pandas as pd\n",
    "import numpy as np\n",
    "\n",
    "names = ['id_trn_ach', 'id_cliente', 'fecha', 'hora', 'valor_trx', 'class', 'seg_str', 'ocupacion', 'tipo_vivienda', 'nivel_academico', 'estado_civil', 'genero', 'edad', 'ingreso_rango']\n",
    "per = pd.read_csv('personas.csv', names=['id_cliente', 'seg_str', 'ocupacion', 'tipo_vivienda', 'nivel_academico', 'estado_civil', 'genero', 'edad', 'ingreso_rango'])\n",
    "trx = pd.read_csv('set4.csv', names=['id_trn_ach', 'id_cliente', 'fecha', 'hora', 'valor_trx', 'class'])"
   ]
  },
  {
   "cell_type": "code",
   "execution_count": 2,
   "metadata": {},
   "outputs": [
    {
     "name": "stdout",
     "output_type": "stream",
     "text": [
      "Filas: 338606\n",
      "Columnas: 9\n",
      "\n",
      "Filas: 7490652\n",
      "Columnas: 6\n",
      "\n",
      "id_cliente              0\n",
      "seg_str                 0\n",
      "ocupacion            6837\n",
      "tipo_vivienda      184383\n",
      "nivel_academico     93650\n",
      "estado_civil        67360\n",
      "genero               5709\n",
      "edad                 8216\n",
      "ingreso_rango        7384\n",
      "dtype: int64\n"
     ]
    }
   ],
   "source": [
    "#df.head\n",
    "print('Filas: {}\\nColumnas: {}\\n'.format(per.shape[0], per.shape[1]))\n",
    "print('Filas: {}\\nColumnas: {}\\n'.format(trx.shape[0], trx.shape[1]))\n",
    "print(per.isnull().sum())"
   ]
  },
  {
   "cell_type": "code",
   "execution_count": 3,
   "metadata": {},
   "outputs": [
    {
     "name": "stdout",
     "output_type": "stream",
     "text": [
      "Filas: 7490652\n",
      "Columnas: 14\n",
      "\n",
      "id_trn_ach               0\n",
      "id_cliente               0\n",
      "fecha                    0\n",
      "hora                     0\n",
      "valor_trx                0\n",
      "class                    0\n",
      "seg_str                  0\n",
      "ocupacion           137927\n",
      "tipo_vivienda      3230964\n",
      "nivel_academico    1324842\n",
      "estado_civil       1381618\n",
      "genero              127532\n",
      "edad                165074\n",
      "ingreso_rango        59925\n",
      "dtype: int64\n"
     ]
    }
   ],
   "source": [
    "df = pd.merge(trx, per, on=['id_cliente','id_cliente'])\n",
    "print('Filas: {}\\nColumnas: {}\\n'.format(df.shape[0], df.shape[1]))\n",
    "print(df.isnull().sum())"
   ]
  },
  {
   "cell_type": "code",
   "execution_count": null,
   "metadata": {},
   "outputs": [],
   "source": [
    "df.to_csv('set3.csv', header=False, index=False)"
   ]
  },
  {
   "cell_type": "code",
   "execution_count": null,
   "metadata": {},
   "outputs": [],
   "source": [
    "from tqdm import tqdm\n",
    "\n",
    "client_trx = dict()\n",
    "clientes = df['id_cliente'].unique()\n",
    "for client in tqdm(clientes):\n",
    "    if client not in client_trx:\n",
    "        client_trx[client] = df.loc[df['id_cliente'] == client]"
   ]
  },
  {
   "cell_type": "code",
   "execution_count": null,
   "metadata": {},
   "outputs": [],
   "source": [
    "val = list()\n",
    "nan = np.nan\n",
    "for id_cliente, fecha in tqdm(zip(df['id_cliente'],df['fecha'])):\n",
    "    tmp = client_trx[id_cliente][client_trx[id_cliente]['fecha'] < fecha].tail(10)    \n",
    "    if len(tmp) > 0: \n",
    "        val.append(tmp['class'].mode()[0])\n",
    "    else:\n",
    "        val.append(nan)"
   ]
  },
  {
   "cell_type": "code",
   "execution_count": null,
   "metadata": {},
   "outputs": [],
   "source": [
    "df = df.assign(last_class=val)\n",
    "df.to_csv('set4_1.csv',header=False)"
   ]
  },
  {
   "cell_type": "code",
   "execution_count": null,
   "metadata": {},
   "outputs": [],
   "source": [
    "from datetime import datetime\n",
    "from datetime import timedelta\n",
    "\n",
    "val = list()\n",
    "nan = np.nan\n",
    "for id_cliente, fecha in tqdm(zip(df['id_cliente'],df['fecha'])):\n",
    "    tmp = client_trx[id_cliente][client_trx[id_cliente]['fecha'] < fecha]\n",
    "    if len(tmp) > 0:\n",
    "        _fecha = datetime.strptime(str(int(fecha)), '%Y%m%d') - timedelta(365/12)        \n",
    "        _fecha = int(_fecha.strftime('%Y%m%d'))\n",
    "        idx_val = tmp['fecha'].searchsorted(value=_fecha)[0]\n",
    "        if idx_val >= len(tmp): idx_val -= 1\n",
    "        _delta = datetime.strptime(str(int(fecha)), '%Y%m%d') - datetime.strptime(str(int(tmp.iloc[idx_val]['fecha'])), '%Y%m%d')\n",
    "        _delta = _delta.days\n",
    "        if _delta > 0: val.append(tmp.iloc[idx_val]['class'])\n",
    "    else:\n",
    "        val.append(nan)"
   ]
  },
  {
   "cell_type": "code",
   "execution_count": null,
   "metadata": {},
   "outputs": [],
   "source": [
    "df = df.assign(last_month=val)\n",
    "df.to_csv('set4_2.csv',header=False)"
   ]
  },
  {
   "cell_type": "code",
   "execution_count": 4,
   "metadata": {},
   "outputs": [
    {
     "name": "stderr",
     "output_type": "stream",
     "text": [
      "100%|██████████| 7490652/7490652 [01:13<00:00, 101282.87it/s]\n"
     ]
    }
   ],
   "source": [
    "# separar fecha en mes y dia, eliminar año\n",
    "from tqdm import tqdm\n",
    "from datetime import datetime\n",
    "\n",
    "fecha = df['fecha']\n",
    "mes, dia = list(), list()\n",
    "for f in tqdm(fecha):\n",
    "    f = datetime.strptime(str(f), '%Y%m%d')\n",
    "    mes.append(f.month)\n",
    "    dia.append(f.day)"
   ]
  },
  {
   "cell_type": "code",
   "execution_count": 5,
   "metadata": {},
   "outputs": [],
   "source": [
    "# eliminar fecha, id trx, id cliente y agregar mes y dia\n",
    "df = df.assign(mes=mes)\n",
    "df = df.assign(dia=dia)\n",
    "df = df.drop('id_trn_ach', axis = 1)\n",
    "df = df.drop('id_cliente', axis = 1)\n",
    "df = df.drop('fecha', axis = 1)"
   ]
  },
  {
   "cell_type": "code",
   "execution_count": null,
   "metadata": {},
   "outputs": [],
   "source": [
    "df.to_csv('set5.csv', header=False, index=False)"
   ]
  }
 ],
 "metadata": {
  "kernelspec": {
   "display_name": "Python 3",
   "language": "python",
   "name": "python3"
  },
  "language_info": {
   "codemirror_mode": {
    "name": "ipython",
    "version": 3
   },
   "file_extension": ".py",
   "mimetype": "text/x-python",
   "name": "python",
   "nbconvert_exporter": "python",
   "pygments_lexer": "ipython3",
   "version": "3.7.0"
  }
 },
 "nbformat": 4,
 "nbformat_minor": 2
}
